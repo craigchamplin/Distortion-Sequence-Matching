{
 "cells": [
  {
   "cell_type": "markdown",
   "id": "283c25aa",
   "metadata": {},
   "source": [
    "# Distortion Method Induction\n",
    "\n",
    "This is the inductive algorithm from the paper:<br> \"*Objectively correct sequence matching for comparing pipeline inspections*\"<br> by Craig L Champlin and Salman Mohagheghi\n",
    "\n",
    "Submited for publication in:<br>\n",
    "**Mechanical Systems and Signal Processing (MSSP)**"
   ]
  },
  {
   "cell_type": "markdown",
   "id": "e38664ea",
   "metadata": {},
   "source": [
    "## Version History\n",
    "\n",
    "#### `2022 10 12` Public Version\n",
    "\n",
    "* Streamline for public release\n",
    "\n",
    "\n",
    "#### `2022 10 06` Clean Version\n",
    "\n",
    "* Following the published algorithm\n",
    "* Using the recursion in `incrik()`\n",
    "\n",
    "(c) October 2022, Craig L Champlin<br>\n",
    "LICENSE: GNU Affero General Public License v3.0<br>\n",
    "https://choosealicense.com/licenses/agpl-3.0/"
   ]
  },
  {
   "cell_type": "code",
   "execution_count": 51,
   "id": "8b39d776",
   "metadata": {
    "ExecuteTime": {
     "end_time": "2022-10-12T22:12:21.286549Z",
     "start_time": "2022-10-12T22:12:21.281846Z"
    }
   },
   "outputs": [],
   "source": [
    "import math\n",
    "import numpy as np\n",
    "import pandas as pd\n",
    "\n",
    "from collections import deque\n",
    "\n",
    "from datetime import datetime\n",
    "\n",
    "%matplotlib inline\n",
    "import matplotlib.pyplot as plt\n",
    "plt.style.use('ggplot')"
   ]
  },
  {
   "cell_type": "markdown",
   "id": "3dc528aa",
   "metadata": {},
   "source": [
    "# Import Data"
   ]
  },
  {
   "cell_type": "code",
   "execution_count": 715,
   "id": "3752f5bb",
   "metadata": {
    "ExecuteTime": {
     "end_time": "2022-10-13T04:32:18.557067Z",
     "start_time": "2022-10-13T04:32:18.515342Z"
    }
   },
   "outputs": [
    {
     "data": {
      "text/html": [
       "<div>\n",
       "<style scoped>\n",
       "    .dataframe tbody tr th:only-of-type {\n",
       "        vertical-align: middle;\n",
       "    }\n",
       "\n",
       "    .dataframe tbody tr th {\n",
       "        vertical-align: top;\n",
       "    }\n",
       "\n",
       "    .dataframe thead th {\n",
       "        text-align: right;\n",
       "    }\n",
       "</style>\n",
       "<table border=\"1\" class=\"dataframe\">\n",
       "  <thead>\n",
       "    <tr style=\"text-align: right;\">\n",
       "      <th></th>\n",
       "      <th>idx</th>\n",
       "      <th>wc</th>\n",
       "      <th>event</th>\n",
       "    </tr>\n",
       "  </thead>\n",
       "  <tbody>\n",
       "    <tr>\n",
       "      <th>0</th>\n",
       "      <td>-4</td>\n",
       "      <td>-29.30</td>\n",
       "      <td>refpoint2</td>\n",
       "    </tr>\n",
       "    <tr>\n",
       "      <th>1</th>\n",
       "      <td>-3</td>\n",
       "      <td>-1.61</td>\n",
       "      <td>refpoint3</td>\n",
       "    </tr>\n",
       "    <tr>\n",
       "      <th>2</th>\n",
       "      <td>-2</td>\n",
       "      <td>-1.60</td>\n",
       "      <td>weld</td>\n",
       "    </tr>\n",
       "    <tr>\n",
       "      <th>3</th>\n",
       "      <td>-1</td>\n",
       "      <td>-1.15</td>\n",
       "      <td>refpoint4</td>\n",
       "    </tr>\n",
       "    <tr>\n",
       "      <th>4</th>\n",
       "      <td>0</td>\n",
       "      <td>0.00</td>\n",
       "      <td>refpoint4</td>\n",
       "    </tr>\n",
       "    <tr>\n",
       "      <th>...</th>\n",
       "      <td>...</td>\n",
       "      <td>...</td>\n",
       "      <td>...</td>\n",
       "    </tr>\n",
       "    <tr>\n",
       "      <th>12888</th>\n",
       "      <td>56341</td>\n",
       "      <td>614266.33</td>\n",
       "      <td>refpoint4</td>\n",
       "    </tr>\n",
       "    <tr>\n",
       "      <th>12889</th>\n",
       "      <td>56342</td>\n",
       "      <td>614267.39</td>\n",
       "      <td>refpoint4</td>\n",
       "    </tr>\n",
       "    <tr>\n",
       "      <th>12890</th>\n",
       "      <td>56343</td>\n",
       "      <td>614268.53</td>\n",
       "      <td>refpoint4</td>\n",
       "    </tr>\n",
       "    <tr>\n",
       "      <th>12891</th>\n",
       "      <td>56344</td>\n",
       "      <td>614268.94</td>\n",
       "      <td>weld</td>\n",
       "    </tr>\n",
       "    <tr>\n",
       "      <th>12892</th>\n",
       "      <td>56345</td>\n",
       "      <td>614291.88</td>\n",
       "      <td>refpoint2</td>\n",
       "    </tr>\n",
       "  </tbody>\n",
       "</table>\n",
       "<p>12893 rows × 3 columns</p>\n",
       "</div>"
      ],
      "text/plain": [
       "         idx         wc      event\n",
       "0         -4     -29.30  refpoint2\n",
       "1         -3      -1.61  refpoint3\n",
       "2         -2      -1.60       weld\n",
       "3         -1      -1.15  refpoint4\n",
       "4          0       0.00  refpoint4\n",
       "...      ...        ...        ...\n",
       "12888  56341  614266.33  refpoint4\n",
       "12889  56342  614267.39  refpoint4\n",
       "12890  56343  614268.53  refpoint4\n",
       "12891  56344  614268.94       weld\n",
       "12892  56345  614291.88  refpoint2\n",
       "\n",
       "[12893 rows x 3 columns]"
      ]
     },
     "metadata": {},
     "output_type": "display_data"
    },
    {
     "data": {
      "text/html": [
       "<div>\n",
       "<style scoped>\n",
       "    .dataframe tbody tr th:only-of-type {\n",
       "        vertical-align: middle;\n",
       "    }\n",
       "\n",
       "    .dataframe tbody tr th {\n",
       "        vertical-align: top;\n",
       "    }\n",
       "\n",
       "    .dataframe thead th {\n",
       "        text-align: right;\n",
       "    }\n",
       "</style>\n",
       "<table border=\"1\" class=\"dataframe\">\n",
       "  <thead>\n",
       "    <tr style=\"text-align: right;\">\n",
       "      <th></th>\n",
       "      <th>idx</th>\n",
       "      <th>wc</th>\n",
       "      <th>event</th>\n",
       "    </tr>\n",
       "  </thead>\n",
       "  <tbody>\n",
       "    <tr>\n",
       "      <th>0</th>\n",
       "      <td>-6</td>\n",
       "      <td>-18.16</td>\n",
       "      <td>refpoint2</td>\n",
       "    </tr>\n",
       "    <tr>\n",
       "      <th>1</th>\n",
       "      <td>-5</td>\n",
       "      <td>-1.51</td>\n",
       "      <td>refpoint3</td>\n",
       "    </tr>\n",
       "    <tr>\n",
       "      <th>2</th>\n",
       "      <td>-4</td>\n",
       "      <td>-1.51</td>\n",
       "      <td>weld</td>\n",
       "    </tr>\n",
       "    <tr>\n",
       "      <th>3</th>\n",
       "      <td>-3</td>\n",
       "      <td>-1.07</td>\n",
       "      <td>refpoint4</td>\n",
       "    </tr>\n",
       "    <tr>\n",
       "      <th>4</th>\n",
       "      <td>-2</td>\n",
       "      <td>-1.01</td>\n",
       "      <td>refpoint2</td>\n",
       "    </tr>\n",
       "    <tr>\n",
       "      <th>...</th>\n",
       "      <td>...</td>\n",
       "      <td>...</td>\n",
       "      <td>...</td>\n",
       "    </tr>\n",
       "    <tr>\n",
       "      <th>12388</th>\n",
       "      <td>61166</td>\n",
       "      <td>619805.16</td>\n",
       "      <td>refpoint4</td>\n",
       "    </tr>\n",
       "    <tr>\n",
       "      <th>12389</th>\n",
       "      <td>61167</td>\n",
       "      <td>619806.18</td>\n",
       "      <td>refpoint4</td>\n",
       "    </tr>\n",
       "    <tr>\n",
       "      <th>12390</th>\n",
       "      <td>61168</td>\n",
       "      <td>619807.15</td>\n",
       "      <td>refpoint4</td>\n",
       "    </tr>\n",
       "    <tr>\n",
       "      <th>12391</th>\n",
       "      <td>61169</td>\n",
       "      <td>619807.51</td>\n",
       "      <td>weld</td>\n",
       "    </tr>\n",
       "    <tr>\n",
       "      <th>12392</th>\n",
       "      <td>61170</td>\n",
       "      <td>619836.28</td>\n",
       "      <td>refpoint2</td>\n",
       "    </tr>\n",
       "  </tbody>\n",
       "</table>\n",
       "<p>12393 rows × 3 columns</p>\n",
       "</div>"
      ],
      "text/plain": [
       "         idx         wc      event\n",
       "0         -6     -18.16  refpoint2\n",
       "1         -5      -1.51  refpoint3\n",
       "2         -4      -1.51       weld\n",
       "3         -3      -1.07  refpoint4\n",
       "4         -2      -1.01  refpoint2\n",
       "...      ...        ...        ...\n",
       "12388  61166  619805.16  refpoint4\n",
       "12389  61167  619806.18  refpoint4\n",
       "12390  61168  619807.15  refpoint4\n",
       "12391  61169  619807.51       weld\n",
       "12392  61170  619836.28  refpoint2\n",
       "\n",
       "[12393 rows x 3 columns]"
      ]
     },
     "metadata": {},
     "output_type": "display_data"
    }
   ],
   "source": [
    "# Uncomment a row to choose dataset \n",
    "# dset = 'RC1'; AStartRow=3; BStartRow=2; AEndRow=3913; BEndRow=3865\n",
    "dset = 'RC2'; AStartRow=4; BStartRow=6; AEndRow=12875; BEndRow=12375\n",
    "# dset = 'RC3'; AStartRow=3; BStartRow=3; AEndRow=7902; BEndRow=7757\n",
    "# dset = 'RC4'; AStartRow=0; BStartRow=0; AEndRow=388; BEndRow=386\n",
    "\n",
    "# import data\n",
    "fnameA = ('./Data/' + dset + '-A.csv')\n",
    "fnameB = ('./Data/' + dset + '-B.csv')\n",
    "\n",
    "colNames = ['idx','wc','event']\n",
    "\n",
    "dfA = pd.read_csv(fnameA, skiprows=2, header=0, names=colNames)\n",
    "dfB = pd.read_csv(fnameB, skiprows=2, header=0, names=colNames)\n",
    "\n",
    "# lowercase-erize strings for easy comparison\n",
    "dfA['event']=dfA['event'].str.lower()\n",
    "dfB['event']=dfB['event'].str.lower()\n",
    "\n",
    "# cast as specific data types to keep things tidy\n",
    "eventTypes = pd.CategoricalDtype(categories=['refpoint1',\n",
    "                                             'refpoint2',\n",
    "                                             'refpoint3',\n",
    "                                             'refpoint4',\n",
    "                                             'refpoint5',\n",
    "                                             'weld'], ordered=False)\n",
    "\n",
    "dataTypes = {'idx':np.uint, \n",
    "             'event':eventTypes,\n",
    "             'wc':np.float_\n",
    "             }\n",
    "\n",
    "dfA.astype(dataTypes)\n",
    "dfB.astype(dataTypes)\n",
    "\n",
    "# visual confirmation\n",
    "display(dfA)\n",
    "display(dfB)"
   ]
  },
  {
   "cell_type": "code",
   "execution_count": 716,
   "id": "be87a1cc",
   "metadata": {
    "ExecuteTime": {
     "end_time": "2022-10-13T04:32:20.527670Z",
     "start_time": "2022-10-13T04:32:20.520460Z"
    }
   },
   "outputs": [
    {
     "name": "stdout",
     "output_type": "stream",
     "text": [
      "        idx         wc event\n",
      "3856  39332  155241.35  weld\n",
      "3857  39333  155264.20  weld\n",
      "3858  39334  155298.82  weld\n",
      "3859  39336  155331.09  weld\n",
      "\n",
      "        idx         wc event\n",
      "3811  48070  168064.84  weld\n",
      "3812  48071  168114.18  weld\n",
      "3813  48072  168162.81  weld\n",
      "3814  48073  168211.39  weld\n"
     ]
    }
   ],
   "source": [
    "# How to display rows - for looking at data\n",
    "\n",
    "print(dfA.loc[3856:3859])\n",
    "print()\n",
    "print(dfB.loc[3811:3814])"
   ]
  },
  {
   "cell_type": "markdown",
   "id": "bd53c302",
   "metadata": {},
   "source": [
    "## Distortion Method Code\n",
    "\n",
    "Per the paper"
   ]
  },
  {
   "cell_type": "code",
   "execution_count": 717,
   "id": "4d6768bb",
   "metadata": {
    "ExecuteTime": {
     "end_time": "2022-10-13T04:32:23.350778Z",
     "start_time": "2022-10-13T04:32:23.342469Z"
    }
   },
   "outputs": [],
   "source": [
    "def incrik(i,k,A,B,Dm1,W) :\n",
    "    # increment i and k, matching event types only\n",
    "    i = i + 1 ; k = k + 1\n",
    "    \n",
    "    ei = A.loc[i].loc['event']\n",
    "    ek = B.loc[k].loc['event']\n",
    "    \n",
    "    # easy match, exit\n",
    "    if (ei == ek) :\n",
    "        return (i,k)\n",
    "    \n",
    "    # no match, look for one nearby\n",
    "    xi = A.loc[i].loc['wc']\n",
    "    xk = B.loc[k].loc['wc']\n",
    "    \n",
    "    ip = i ; kp = k\n",
    "    \n",
    "    nearb = True \n",
    "    while nearb :   # hold A, scan B\n",
    "        kp = kp + 1\n",
    "        xkp = B.loc[kp].loc['wc']\n",
    "        ekp = B.loc[kp].loc['event']\n",
    "        \n",
    "        nearb = (ei != ekp) and (xkp - xk) < W and (kp < len(B)-1)\n",
    "        \n",
    "    neara = True\n",
    "    while neara :   # hold B, scan A\n",
    "        ip = ip + 1\n",
    "        xip = A.loc[ip].loc['wc']\n",
    "        eip = A.loc[ip].loc['event']\n",
    "    \n",
    "        neara = (eip != ek) and (xip - xi) < W and (ip < len(A)-1)\n",
    "    \n",
    "        \n",
    "    if (ei != ekp) and (eip != ek) :  \n",
    "        # no match found, recurse until match\n",
    "        return incrik(i,k,A,B,Dm1,W)\n",
    "    \n",
    "    # one or more candidate pairs\n",
    "    if (ei == ekp) and (eip == ek) :\n",
    "        # dual matches\n",
    "        DiA = xi - xkp ; DDiA = DiA - Dm1\n",
    "        DkB = xip - xk ; DDkB = DkB - Dm1\n",
    "        \n",
    "        if abs(DDiA) < abs(DDkB) :\n",
    "            return (i, kp)\n",
    "        else :\n",
    "            return (ip, k)\n",
    "        \n",
    "    if (ei == ekp) :\n",
    "        # single match\n",
    "        return (i, kp)\n",
    "    else :\n",
    "        return (ip, k)\n",
    "    \n",
    "    # error - jump to end\n",
    "    return(AEndRow,BEndRow)"
   ]
  },
  {
   "cell_type": "code",
   "execution_count": 718,
   "id": "ba381a82",
   "metadata": {
    "ExecuteTime": {
     "end_time": "2022-10-13T04:32:24.716594Z",
     "start_time": "2022-10-13T04:32:24.710481Z"
    }
   },
   "outputs": [],
   "source": [
    "def scanw(i,k,A,B, Dm1,DD,et,psi) :\n",
    "    # returns index of better match within w\n",
    "    w = abs(DD) * psi\n",
    "    bestk = k \n",
    "    \n",
    "    xi = A.loc[i].loc['wc']\n",
    "    xk = B.loc[k].loc['wc'] \n",
    "    ei = A.loc[i].loc['event']\n",
    "    ek = B.loc[k].loc['event']\n",
    "    \n",
    "    kp = k + 1\n",
    "    \n",
    "    nearby = True\n",
    "    while nearby :\n",
    "        \n",
    "        xkp = B.loc[kp].loc['wc'] \n",
    "        ekp = B.loc[kp].loc['wc'] \n",
    "        \n",
    "        if (ei == ekp) :\n",
    "            Dp = xi - xkp\n",
    "            DDp = Dp - Dm1\n",
    "            \n",
    "            if (abs(DDp) < abs(DD)) and (abs(DDp) < et[ei]) :\n",
    "                # better match found\n",
    "                bestk = kp\n",
    "                \n",
    "        kp = kp + 1\n",
    "        nearby = (xkp - xk) < w and (kp < len(B)-1)\n",
    "    \n",
    "    return bestk"
   ]
  },
  {
   "cell_type": "markdown",
   "id": "809e5976",
   "metadata": {},
   "source": [
    "## Configuration\n",
    "\n",
    "All configurable parameters are here"
   ]
  },
  {
   "cell_type": "code",
   "execution_count": 719,
   "id": "79115ed9",
   "metadata": {
    "ExecuteTime": {
     "end_time": "2022-10-13T04:32:27.228375Z",
     "start_time": "2022-10-13T04:32:27.226200Z"
    }
   },
   "outputs": [],
   "source": [
    "# Good settings per example\n",
    "###\n",
    "\n",
    "\n",
    "### RC3\n",
    "# bigW = 33\n",
    "# psi = 1.3\n",
    "# et = 7.0"
   ]
  },
  {
   "cell_type": "code",
   "execution_count": 720,
   "id": "7c29b03b",
   "metadata": {
    "ExecuteTime": {
     "end_time": "2022-10-13T04:32:28.999281Z",
     "start_time": "2022-10-13T04:32:28.995443Z"
    }
   },
   "outputs": [],
   "source": [
    "# Initilizations- globally available\n",
    "\n",
    "# target error threshold (\\mathring{\\varepsilon})\n",
    "etMonoVal = 7.0                   # real\n",
    "et = {'refpoint1':etMonoVal,\n",
    "      'refpoint2':etMonoVal,\n",
    "      'refpoint3':etMonoVal,\n",
    "      'refpoint4':etMonoVal,\n",
    "      'refpoint5':etMonoVal,\n",
    "      'weld':etMonoVal}\n",
    "\n",
    "# Capital W window (about the size of longest joints)\n",
    "bigW = 33                       # real\n",
    "\n",
    "# scan window factor of safety (w = DD * psi)\n",
    "psi = 1.3                      # real\n",
    "\n",
    "# boundary conditions\n",
    "i = AStartRow\n",
    "k = BStartRow\n",
    "\n",
    "n = AEndRow\n",
    "m = BEndRow\n"
   ]
  },
  {
   "cell_type": "code",
   "execution_count": 721,
   "id": "a805afc4",
   "metadata": {
    "ExecuteTime": {
     "end_time": "2022-10-13T05:01:49.955879Z",
     "start_time": "2022-10-13T04:32:31.501166Z"
    },
    "scrolled": true
   },
   "outputs": [
    {
     "name": "stdout",
     "output_type": "stream",
     "text": [
      "Finished at : 23:01:49\n"
     ]
    }
   ],
   "source": [
    "# main()\n",
    "\n",
    "xi = dfA.loc[i].loc['wc']\n",
    "xk = dfB.loc[k].loc['wc']\n",
    "\n",
    "D = xi - xk\n",
    "DD = 0\n",
    "\n",
    "match = True\n",
    "\n",
    "S = deque()      # the output sequence\n",
    "\n",
    "## Main Loop\n",
    "while (i < n) and (k < m) :\n",
    "\n",
    "    if match :\n",
    "        S.append([i,k,D,DD])\n",
    "        Dm1 = D  # last known good distortion value\n",
    "    else :\n",
    "        pass     # outlier, retain last Dm1\n",
    "\n",
    "    match = False\n",
    "\n",
    "    # get next pair of i and k\n",
    "    i, k = incrik(i,k,dfA,dfB,Dm1,bigW) \n",
    "    ei = dfA.loc[i].loc['event']\n",
    "    ek = dfB.loc[k].loc['event']\n",
    "\n",
    "    xa = dfA.loc[i].loc['wc']\n",
    "    xb = dfB.loc[k].loc['wc']\n",
    "    D = xa - xb\n",
    "    DD = D - Dm1\n",
    "\n",
    "    if abs(DD) < et[ei] :\n",
    "        # good match, next iteration\n",
    "        match = True\n",
    "        continue\n",
    "\n",
    "    # Pair is an outlier, scan for better matches\n",
    "    kp = scanw(i,k,dfA,dfB, Dm1,DD,et,psi)\n",
    "    ip = scanw(k,i,dfB,dfA, Dm1,DD,et,psi)\n",
    "\n",
    "    if (kp == k) and (ip == i) :\n",
    "        # nothing better, make a gap, get next pair\n",
    "        match == False\n",
    "        continue\n",
    "\n",
    "    # better match found\n",
    "    match = True\n",
    "\n",
    "    if ((kp - k) < (ip - i)) and (kp != k) :\n",
    "        # kp is the better match\n",
    "        i = i ; k = kp\n",
    "    else :\n",
    "        # ip is yhe better match\n",
    "        i = ip ; k = k\n",
    "\n",
    "    # end while\n",
    "\n",
    "currentDateAndTime = datetime.now()\n",
    "currentTime = currentDateAndTime.strftime(\"%H:%M:%S\")\n",
    "print('Finished at :', currentTime)"
   ]
  },
  {
   "cell_type": "code",
   "execution_count": 722,
   "id": "ab103176",
   "metadata": {
    "ExecuteTime": {
     "end_time": "2022-10-13T05:01:49.962017Z",
     "start_time": "2022-10-13T05:01:49.958263Z"
    }
   },
   "outputs": [
    {
     "name": "stdout",
     "output_type": "stream",
     "text": [
      "33  : bigW\n",
      "7.0  : et\n",
      "1.3  : psi\n",
      "12613\n",
      "12377\n",
      "201\n",
      "Match % :  1.59\n"
     ]
    }
   ],
   "source": [
    "# Grid Search\n",
    "\n",
    "print(bigW, ' : bigW')\n",
    "print(etMonoVal, ' : et')\n",
    "print(psi, ' : psi')\n",
    "print(i)\n",
    "print(k)\n",
    "print(len(S))  # <-- number of pairs found\n",
    "print('Match % : ', round(len(S)/i * 100,2))\n"
   ]
  },
  {
   "cell_type": "markdown",
   "id": "79922e83",
   "metadata": {},
   "source": [
    "## Convert Pairs to a Dataset for graphing"
   ]
  },
  {
   "cell_type": "code",
   "execution_count": 710,
   "id": "1925d5c9",
   "metadata": {
    "ExecuteTime": {
     "end_time": "2022-10-13T04:14:09.154983Z",
     "start_time": "2022-10-13T04:13:57.635582Z"
    }
   },
   "outputs": [
    {
     "name": "stdout",
     "output_type": "stream",
     "text": [
      "Finished at : 22:14:09\n"
     ]
    },
    {
     "data": {
      "text/html": [
       "<div>\n",
       "<style scoped>\n",
       "    .dataframe tbody tr th:only-of-type {\n",
       "        vertical-align: middle;\n",
       "    }\n",
       "\n",
       "    .dataframe tbody tr th {\n",
       "        vertical-align: top;\n",
       "    }\n",
       "\n",
       "    .dataframe thead th {\n",
       "        text-align: right;\n",
       "    }\n",
       "</style>\n",
       "<table border=\"1\" class=\"dataframe\">\n",
       "  <thead>\n",
       "    <tr style=\"text-align: right;\">\n",
       "      <th></th>\n",
       "      <th>i</th>\n",
       "      <th>idxA</th>\n",
       "      <th>wcA</th>\n",
       "      <th>eventA</th>\n",
       "      <th>dist</th>\n",
       "      <th>diff</th>\n",
       "      <th>eventB</th>\n",
       "      <th>wcB</th>\n",
       "      <th>idxB</th>\n",
       "      <th>k</th>\n",
       "    </tr>\n",
       "  </thead>\n",
       "  <tbody>\n",
       "    <tr>\n",
       "      <th>0</th>\n",
       "      <td>3</td>\n",
       "      <td>4</td>\n",
       "      <td>0.00</td>\n",
       "      <td>refpoint5</td>\n",
       "      <td>0.000</td>\n",
       "      <td>0</td>\n",
       "      <td>refpoint5</td>\n",
       "      <td>0.000</td>\n",
       "      <td>3</td>\n",
       "      <td>2</td>\n",
       "    </tr>\n",
       "    <tr>\n",
       "      <th>1</th>\n",
       "      <td>4</td>\n",
       "      <td>5</td>\n",
       "      <td>0.56</td>\n",
       "      <td>refpoint3</td>\n",
       "      <td>0.070</td>\n",
       "      <td>0.07</td>\n",
       "      <td>refpoint3</td>\n",
       "      <td>0.490</td>\n",
       "      <td>4</td>\n",
       "      <td>3</td>\n",
       "    </tr>\n",
       "    <tr>\n",
       "      <th>2</th>\n",
       "      <td>5</td>\n",
       "      <td>6</td>\n",
       "      <td>0.73</td>\n",
       "      <td>weld</td>\n",
       "      <td>-0.030</td>\n",
       "      <td>-0.1</td>\n",
       "      <td>weld</td>\n",
       "      <td>0.760</td>\n",
       "      <td>5</td>\n",
       "      <td>4</td>\n",
       "    </tr>\n",
       "    <tr>\n",
       "      <th>3</th>\n",
       "      <td>6</td>\n",
       "      <td>7</td>\n",
       "      <td>0.97</td>\n",
       "      <td>refpoint4</td>\n",
       "      <td>-0.169</td>\n",
       "      <td>-0.139</td>\n",
       "      <td>refpoint4</td>\n",
       "      <td>1.139</td>\n",
       "      <td>6</td>\n",
       "      <td>5</td>\n",
       "    </tr>\n",
       "    <tr>\n",
       "      <th>4</th>\n",
       "      <td>7</td>\n",
       "      <td>8</td>\n",
       "      <td>2.37</td>\n",
       "      <td>refpoint5</td>\n",
       "      <td>-0.110</td>\n",
       "      <td>0.059</td>\n",
       "      <td>refpoint5</td>\n",
       "      <td>2.480</td>\n",
       "      <td>7</td>\n",
       "      <td>6</td>\n",
       "    </tr>\n",
       "    <tr>\n",
       "      <th>...</th>\n",
       "      <td>...</td>\n",
       "      <td>...</td>\n",
       "      <td>...</td>\n",
       "      <td>...</td>\n",
       "      <td>...</td>\n",
       "      <td>...</td>\n",
       "      <td>...</td>\n",
       "      <td>...</td>\n",
       "      <td>...</td>\n",
       "      <td>...</td>\n",
       "    </tr>\n",
       "    <tr>\n",
       "      <th>3700</th>\n",
       "      <td>3908</td>\n",
       "      <td>33961</td>\n",
       "      <td>71795.61</td>\n",
       "      <td>refpoint3</td>\n",
       "      <td>331.211</td>\n",
       "      <td>-0.45</td>\n",
       "      <td>refpoint3</td>\n",
       "      <td>71464.399</td>\n",
       "      <td>19424</td>\n",
       "      <td>3859</td>\n",
       "    </tr>\n",
       "    <tr>\n",
       "      <th>3701</th>\n",
       "      <td>3909</td>\n",
       "      <td>33962</td>\n",
       "      <td>71796.37</td>\n",
       "      <td>refpoint1</td>\n",
       "      <td>331.130</td>\n",
       "      <td>-0.081</td>\n",
       "      <td>refpoint1</td>\n",
       "      <td>71465.240</td>\n",
       "      <td>19426</td>\n",
       "      <td>3861</td>\n",
       "    </tr>\n",
       "    <tr>\n",
       "      <th>3702</th>\n",
       "      <td>3910</td>\n",
       "      <td>33963</td>\n",
       "      <td>71796.83</td>\n",
       "      <td>refpoint5</td>\n",
       "      <td>331.170</td>\n",
       "      <td>0.04</td>\n",
       "      <td>refpoint5</td>\n",
       "      <td>71465.660</td>\n",
       "      <td>19427</td>\n",
       "      <td>3862</td>\n",
       "    </tr>\n",
       "    <tr>\n",
       "      <th>3703</th>\n",
       "      <td>3911</td>\n",
       "      <td>33964</td>\n",
       "      <td>71797.30</td>\n",
       "      <td>refpoint1</td>\n",
       "      <td>331.190</td>\n",
       "      <td>0.02</td>\n",
       "      <td>refpoint1</td>\n",
       "      <td>71466.110</td>\n",
       "      <td>19428</td>\n",
       "      <td>3863</td>\n",
       "    </tr>\n",
       "    <tr>\n",
       "      <th>3704</th>\n",
       "      <td>3912</td>\n",
       "      <td>33965</td>\n",
       "      <td>71797.64</td>\n",
       "      <td>refpoint1</td>\n",
       "      <td>331.170</td>\n",
       "      <td>-0.02</td>\n",
       "      <td>refpoint1</td>\n",
       "      <td>71466.470</td>\n",
       "      <td>19429</td>\n",
       "      <td>3864</td>\n",
       "    </tr>\n",
       "  </tbody>\n",
       "</table>\n",
       "<p>3705 rows × 10 columns</p>\n",
       "</div>"
      ],
      "text/plain": [
       "         i   idxA       wcA     eventA     dist   diff     eventB        wcB  \\\n",
       "0        3      4      0.00  refpoint5    0.000      0  refpoint5      0.000   \n",
       "1        4      5      0.56  refpoint3    0.070   0.07  refpoint3      0.490   \n",
       "2        5      6      0.73       weld   -0.030   -0.1       weld      0.760   \n",
       "3        6      7      0.97  refpoint4   -0.169 -0.139  refpoint4      1.139   \n",
       "4        7      8      2.37  refpoint5   -0.110  0.059  refpoint5      2.480   \n",
       "...    ...    ...       ...        ...      ...    ...        ...        ...   \n",
       "3700  3908  33961  71795.61  refpoint3  331.211  -0.45  refpoint3  71464.399   \n",
       "3701  3909  33962  71796.37  refpoint1  331.130 -0.081  refpoint1  71465.240   \n",
       "3702  3910  33963  71796.83  refpoint5  331.170   0.04  refpoint5  71465.660   \n",
       "3703  3911  33964  71797.30  refpoint1  331.190   0.02  refpoint1  71466.110   \n",
       "3704  3912  33965  71797.64  refpoint1  331.170  -0.02  refpoint1  71466.470   \n",
       "\n",
       "       idxB     k  \n",
       "0         3     2  \n",
       "1         4     3  \n",
       "2         5     4  \n",
       "3         6     5  \n",
       "4         7     6  \n",
       "...     ...   ...  \n",
       "3700  19424  3859  \n",
       "3701  19426  3861  \n",
       "3702  19427  3862  \n",
       "3703  19428  3863  \n",
       "3704  19429  3864  \n",
       "\n",
       "[3705 rows x 10 columns]"
      ]
     },
     "metadata": {},
     "output_type": "display_data"
    }
   ],
   "source": [
    "# colNames = ['idx','event','wc']\n",
    "\n",
    "mapcols = ['i', 'idxA', 'wcA', 'eventA', \n",
    "           'dist','diff',\n",
    "           'eventB', 'wcB', 'idxB', 'k']\n",
    "\n",
    "dsS = pd.DataFrame(columns=mapcols)\n",
    "\n",
    "# pairs.reverse()\n",
    "\n",
    "for elem in S :\n",
    "    i, k, dist, diff = elem\n",
    "    \n",
    "    idxA = dfA.loc[i].loc['idx']\n",
    "    wcA = dfA.loc[i].loc['wc']\n",
    "    eventA = dfA.loc[i].loc['event']\n",
    "    \n",
    "    eventB = dfB.loc[k].loc['event']\n",
    "    wcB = dfB.loc[k].loc['wc']\n",
    "    idxB = dfB.loc[k].loc['idx']\n",
    "    \n",
    "    dist = wcA - wcB\n",
    "    diff = diff\n",
    "    \n",
    "    dsS = dsS.append({'i':i, 'idxA':idxA, 'wcA':wcA, 'eventA':eventA, \n",
    "           'dist':dist,'diff':diff,\n",
    "           'eventB':eventB, 'wcB':wcB,'idxB':idxB,'k':k}, ignore_index=True)\n",
    "\n",
    "    \n",
    "currentDateAndTime = datetime.now()\n",
    "currentTime = currentDateAndTime.strftime(\"%H:%M:%S\")\n",
    "print('Finished at :', currentTime)\n",
    "    \n",
    "display(dsS) "
   ]
  },
  {
   "cell_type": "code",
   "execution_count": 711,
   "id": "0273c92d",
   "metadata": {
    "ExecuteTime": {
     "end_time": "2022-10-13T04:14:10.609599Z",
     "start_time": "2022-10-13T04:14:10.604041Z"
    },
    "scrolled": true
   },
   "outputs": [
    {
     "name": "stdout",
     "output_type": "stream",
     "text": [
      "   E(diff) = 0.09\n",
      "   sigma(diff) = 0.32\n"
     ]
    }
   ],
   "source": [
    "print('   E(diff) = {:0.2f}'.format(dsS['diff'].mean()))\n",
    "print('   sigma(diff) = {:0.2f}'.format(dsS['diff'].std()))"
   ]
  },
  {
   "cell_type": "code",
   "execution_count": 712,
   "id": "36308f82",
   "metadata": {
    "ExecuteTime": {
     "end_time": "2022-10-13T04:14:14.221419Z",
     "start_time": "2022-10-13T04:14:14.219256Z"
    }
   },
   "outputs": [],
   "source": [
    "# Save it\n",
    "# dsS.to_csv(path_or_buf='./Data_Out ', + dset + ,'.csv')"
   ]
  },
  {
   "cell_type": "code",
   "execution_count": 713,
   "id": "87f78993",
   "metadata": {
    "ExecuteTime": {
     "end_time": "2022-10-13T04:14:16.155158Z",
     "start_time": "2022-10-13T04:14:15.958803Z"
    },
    "scrolled": false
   },
   "outputs": [
    {
     "data": {
      "text/plain": [
       "<function matplotlib.pyplot.show(close=None, block=None)>"
      ]
     },
     "execution_count": 713,
     "metadata": {},
     "output_type": "execute_result"
    },
    {
     "data": {
      "text/plain": [
       "<Figure size 1080x576 with 0 Axes>"
      ]
     },
     "metadata": {},
     "output_type": "display_data"
    },
    {
     "data": {
      "image/png": "[encoded data removed]",
      "text/plain": [
       "<Figure size 1080x576 with 1 Axes>"
      ]
     },
     "metadata": {},
     "output_type": "display_data"
    }
   ],
   "source": [
    "# Plot it\n",
    "plt.figure(figsize=[15,8]);\n",
    "dsS.plot(kind='scatter', x='wcA', y='dist', figsize=[15,8])\n",
    "# , ylim=[-160,0], xlim=[0,107500]\n",
    "plt.show\n",
    "\n",
    "# plt.savefig('./Distortion ', + dset + ,'.pdf')\n",
    "# plt.savefig('./Distortion ', + dset + ,'.png')"
   ]
  },
  {
   "cell_type": "code",
   "execution_count": 714,
   "id": "2e0b1791",
   "metadata": {
    "ExecuteTime": {
     "end_time": "2022-10-13T04:14:17.755362Z",
     "start_time": "2022-10-13T04:14:17.571693Z"
    },
    "scrolled": true
   },
   "outputs": [
    {
     "data": {
      "text/plain": [
       "<function matplotlib.pyplot.show(close=None, block=None)>"
      ]
     },
     "execution_count": 714,
     "metadata": {},
     "output_type": "execute_result"
    },
    {
     "data": {
      "image/png": "[encoded data removed]",
      "text/plain": [
       "<Figure size 1080x288 with 1 Axes>"
      ]
     },
     "metadata": {},
     "output_type": "display_data"
    }
   ],
   "source": [
    "# Plot it\n",
    "# plt.figure(figsize=[15,8]);\n",
    "dsS.plot(kind='scatter', x='wcA', y='diff', figsize=[15,4], ylim=[-10,10])\n",
    "# , ylim=[-160,0], xlim=[0,107500]\n",
    "plt.show\n",
    "\n",
    "# plt.savefig('./Differencing ', + dset + ,'.pdf')\n",
    "# plt.savefig('./Differencing ', + dset + ,'.png')"
   ]
  },
  {
   "cell_type": "code",
   "execution_count": null,
   "id": "fd7efb21",
   "metadata": {},
   "outputs": [],
   "source": []
  },
  {
   "cell_type": "code",
   "execution_count": null,
   "id": "3f66e2cc",
   "metadata": {},
   "outputs": [],
   "source": []
  }
 ],
 "metadata": {
  "kernelspec": {
   "display_name": "Python 3 (ipykernel)",
   "language": "python",
   "name": "python3"
  },
  "language_info": {
   "codemirror_mode": {
    "name": "ipython",
    "version": 3
   },
   "file_extension": ".py",
   "mimetype": "text/x-python",
   "name": "python",
   "nbconvert_exporter": "python",
   "pygments_lexer": "ipython3",
   "version": "3.9.7"
  }
 },
 "nbformat": 4,
 "nbformat_minor": 5
}
