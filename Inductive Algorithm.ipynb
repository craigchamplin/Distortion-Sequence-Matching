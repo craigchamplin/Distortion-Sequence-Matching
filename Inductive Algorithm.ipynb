{
 "cells": [
  {
   "cell_type": "markdown",
   "id": "6fe5859c",
   "metadata": {},
   "source": [
    "# Distortion Method Induction\n",
    "\n",
    "This is the inductive algorithm from the paper:<br> \"*Distortion-guided sequence matching for comparing pipeline inspections*\"<br> by Craig L Champlin and Salman Mohagheghi\n",
    "\n",
    "Submited for publication (10/15/22) in:<br>\n",
    "**Advances in Engineering Software (ADES)**\n",
    "\n",
    "### Using this notebook:\n",
    "The development of code notebooks has been impactful. They blend working code and documentation in a way that supports tremendous clarity and experimentation. If you have never used one before, there are a few things to be aware of...\n",
    "\n",
    "Code sections must explicitly be executed\n",
    "\n",
    "  * order matters\n",
    "      * the first two sections, importing packages and importing data, need to run once\n",
    "      * functions must be run before `main() `will work\n",
    "      * other than that, not all sections need to be run\n",
    "\n",
    "    \n",
    "\n",
    "* The scope of variables outside of functions is global\n",
    "\n",
    "  * The order in the document doesn't matter\n",
    "  * One might change a value and cause previous sections to break\n",
    "  * to fix this, rerun sections in order\n",
    "\n",
    "\n",
    "### A note on data availability:\n",
    "Recent news about the bombing of the Nordstream pipeline, as well as other acts of vandalism or terror, should make it clear that pipeline data is extremely sensitive. To that end, we have taken the following steps to obscure the data offered here :\n",
    "\n",
    "1. We have released a minimal data set to support the induction only. There are only two columns for each event, odometry and event class. \n",
    "2. Event class values for reference points have been randomly aggregated. This has reduced the precision of the results that this data can generate since what may have been three different types of reference points, are now represented by only one.\n",
    "3. The original index values are not included because they imply the amount of corrosion on a joint. This information could be misused.\n",
    "4. Data for the hybrid method, using semantic Needleman-Wunsch, is too sensitive for release. It requires all columns from the event attribute vector. We are contemplating how to generate a synthetic data set for this.\n"
   ]
  },
  {
   "cell_type": "markdown",
   "id": "e38664ea",
   "metadata": {},
   "source": [
    "## Version History\n",
    "\n",
    "#### `2022 10 15` Public Version\n",
    "* Adding comments\n",
    "\n",
    "#### `2022 10 12` Public Version\n",
    "\n",
    "* Streamline for public release\n",
    "\n",
    "\n",
    "#### `2022 10 06` Clean Version\n",
    "\n",
    "* Following the published algorithm\n",
    "* Using the recursion in `incrik()`\n",
    "\n",
    "(c) October 2022, Craig L Champlin<br>\n",
    "LICENSE: GNU Affero General Public License v3.0<br>\n",
    "https://choosealicense.com/licenses/agpl-3.0/"
   ]
  },
  {
   "cell_type": "markdown",
   "id": "72f633e0",
   "metadata": {},
   "source": [
    "# Initializations - Run once"
   ]
  },
  {
   "cell_type": "code",
   "execution_count": 2,
   "id": "8b39d776",
   "metadata": {
    "ExecuteTime": {
     "end_time": "2022-10-15T19:17:46.212349Z",
     "start_time": "2022-10-15T19:17:43.660448Z"
    }
   },
   "outputs": [],
   "source": [
    "## Run this to start a session\n",
    "\n",
    "import math\n",
    "import numpy as np\n",
    "import pandas as pd\n",
    "\n",
    "from collections import deque\n",
    "\n",
    "from datetime import datetime\n",
    "\n",
    "%matplotlib inline\n",
    "import matplotlib.pyplot as plt\n",
    "plt.style.use('ggplot')"
   ]
  },
  {
   "cell_type": "markdown",
   "id": "3dc528aa",
   "metadata": {},
   "source": [
    "# Import Data"
   ]
  },
  {
   "cell_type": "code",
   "execution_count": 3,
   "id": "3752f5bb",
   "metadata": {
    "ExecuteTime": {
     "end_time": "2022-10-15T19:17:46.256718Z",
     "start_time": "2022-10-15T19:17:46.214373Z"
    }
   },
   "outputs": [
    {
     "data": {
      "text/html": [
       "<div>\n",
       "<style scoped>\n",
       "    .dataframe tbody tr th:only-of-type {\n",
       "        vertical-align: middle;\n",
       "    }\n",
       "\n",
       "    .dataframe tbody tr th {\n",
       "        vertical-align: top;\n",
       "    }\n",
       "\n",
       "    .dataframe thead th {\n",
       "        text-align: right;\n",
       "    }\n",
       "</style>\n",
       "<table border=\"1\" class=\"dataframe\">\n",
       "  <thead>\n",
       "    <tr style=\"text-align: right;\">\n",
       "      <th></th>\n",
       "      <th>wc</th>\n",
       "      <th>event</th>\n",
       "    </tr>\n",
       "  </thead>\n",
       "  <tbody>\n",
       "    <tr>\n",
       "      <th>0</th>\n",
       "      <td>-8.56</td>\n",
       "      <td>refpoint2</td>\n",
       "    </tr>\n",
       "    <tr>\n",
       "      <th>1</th>\n",
       "      <td>-2.13</td>\n",
       "      <td>weld</td>\n",
       "    </tr>\n",
       "    <tr>\n",
       "      <th>2</th>\n",
       "      <td>-1.66</td>\n",
       "      <td>refpoint3</td>\n",
       "    </tr>\n",
       "    <tr>\n",
       "      <th>3</th>\n",
       "      <td>0.00</td>\n",
       "      <td>refpoint5</td>\n",
       "    </tr>\n",
       "    <tr>\n",
       "      <th>4</th>\n",
       "      <td>0.51</td>\n",
       "      <td>refpoint3</td>\n",
       "    </tr>\n",
       "    <tr>\n",
       "      <th>...</th>\n",
       "      <td>...</td>\n",
       "      <td>...</td>\n",
       "    </tr>\n",
       "    <tr>\n",
       "      <th>7901</th>\n",
       "      <td>296374.61</td>\n",
       "      <td>refpoint3</td>\n",
       "    </tr>\n",
       "    <tr>\n",
       "      <th>7902</th>\n",
       "      <td>296375.42</td>\n",
       "      <td>refpoint5</td>\n",
       "    </tr>\n",
       "    <tr>\n",
       "      <th>7903</th>\n",
       "      <td>296376.27</td>\n",
       "      <td>refpoint3</td>\n",
       "    </tr>\n",
       "    <tr>\n",
       "      <th>7904</th>\n",
       "      <td>296376.68</td>\n",
       "      <td>weld</td>\n",
       "    </tr>\n",
       "    <tr>\n",
       "      <th>7905</th>\n",
       "      <td>296402.75</td>\n",
       "      <td>refpoint2</td>\n",
       "    </tr>\n",
       "  </tbody>\n",
       "</table>\n",
       "<p>7906 rows × 2 columns</p>\n",
       "</div>"
      ],
      "text/plain": [
       "             wc      event\n",
       "0         -8.56  refpoint2\n",
       "1         -2.13       weld\n",
       "2         -1.66  refpoint3\n",
       "3          0.00  refpoint5\n",
       "4          0.51  refpoint3\n",
       "...         ...        ...\n",
       "7901  296374.61  refpoint3\n",
       "7902  296375.42  refpoint5\n",
       "7903  296376.27  refpoint3\n",
       "7904  296376.68       weld\n",
       "7905  296402.75  refpoint2\n",
       "\n",
       "[7906 rows x 2 columns]"
      ]
     },
     "metadata": {},
     "output_type": "display_data"
    },
    {
     "data": {
      "text/html": [
       "<div>\n",
       "<style scoped>\n",
       "    .dataframe tbody tr th:only-of-type {\n",
       "        vertical-align: middle;\n",
       "    }\n",
       "\n",
       "    .dataframe tbody tr th {\n",
       "        vertical-align: top;\n",
       "    }\n",
       "\n",
       "    .dataframe thead th {\n",
       "        text-align: right;\n",
       "    }\n",
       "</style>\n",
       "<table border=\"1\" class=\"dataframe\">\n",
       "  <thead>\n",
       "    <tr style=\"text-align: right;\">\n",
       "      <th></th>\n",
       "      <th>wc</th>\n",
       "      <th>event</th>\n",
       "    </tr>\n",
       "  </thead>\n",
       "  <tbody>\n",
       "    <tr>\n",
       "      <th>0</th>\n",
       "      <td>-52.94</td>\n",
       "      <td>refpoint2</td>\n",
       "    </tr>\n",
       "    <tr>\n",
       "      <th>1</th>\n",
       "      <td>-1.29</td>\n",
       "      <td>weld</td>\n",
       "    </tr>\n",
       "    <tr>\n",
       "      <th>2</th>\n",
       "      <td>-0.87</td>\n",
       "      <td>refpoint3</td>\n",
       "    </tr>\n",
       "    <tr>\n",
       "      <th>3</th>\n",
       "      <td>0.00</td>\n",
       "      <td>refpoint5</td>\n",
       "    </tr>\n",
       "    <tr>\n",
       "      <th>4</th>\n",
       "      <td>0.95</td>\n",
       "      <td>refpoint3</td>\n",
       "    </tr>\n",
       "    <tr>\n",
       "      <th>...</th>\n",
       "      <td>...</td>\n",
       "      <td>...</td>\n",
       "    </tr>\n",
       "    <tr>\n",
       "      <th>7756</th>\n",
       "      <td>296086.44</td>\n",
       "      <td>refpoint3</td>\n",
       "    </tr>\n",
       "    <tr>\n",
       "      <th>7757</th>\n",
       "      <td>296087.40</td>\n",
       "      <td>refpoint5</td>\n",
       "    </tr>\n",
       "    <tr>\n",
       "      <th>7758</th>\n",
       "      <td>296088.38</td>\n",
       "      <td>refpoint3</td>\n",
       "    </tr>\n",
       "    <tr>\n",
       "      <th>7759</th>\n",
       "      <td>296088.78</td>\n",
       "      <td>weld</td>\n",
       "    </tr>\n",
       "    <tr>\n",
       "      <th>7760</th>\n",
       "      <td>296127.02</td>\n",
       "      <td>refpoint2</td>\n",
       "    </tr>\n",
       "  </tbody>\n",
       "</table>\n",
       "<p>7761 rows × 2 columns</p>\n",
       "</div>"
      ],
      "text/plain": [
       "             wc      event\n",
       "0        -52.94  refpoint2\n",
       "1         -1.29       weld\n",
       "2         -0.87  refpoint3\n",
       "3          0.00  refpoint5\n",
       "4          0.95  refpoint3\n",
       "...         ...        ...\n",
       "7756  296086.44  refpoint3\n",
       "7757  296087.40  refpoint5\n",
       "7758  296088.38  refpoint3\n",
       "7759  296088.78       weld\n",
       "7760  296127.02  refpoint2\n",
       "\n",
       "[7761 rows x 2 columns]"
      ]
     },
     "metadata": {},
     "output_type": "display_data"
    }
   ],
   "source": [
    "## Run this to start a session\n",
    "\n",
    "# Uncomment a row to choose dataset \n",
    "###\n",
    "# dset = 'RC1'; AStartRow=3; BStartRow=2; AEndRow=3913; BEndRow=3865\n",
    "# dset = 'RC2'; AStartRow=4; BStartRow=6; AEndRow=12875; BEndRow=12375\n",
    "dset = 'RC3'; AStartRow=3; BStartRow=3; AEndRow=7902; BEndRow=7757\n",
    "# dset = 'RC4'; AStartRow=0; BStartRow=0; AEndRow=388; BEndRow=386\n",
    "\n",
    "# import data\n",
    "fnameA = ('./Data/' + dset + '-A.csv')\n",
    "fnameB = ('./Data/' + dset + '-B.csv')\n",
    "\n",
    "colNames = ['wc','event']\n",
    "\n",
    "dfA = pd.read_csv(fnameA, skiprows=2, header=0, names=colNames)\n",
    "dfB = pd.read_csv(fnameB, skiprows=2, header=0, names=colNames)\n",
    "\n",
    "# lowercase-erize strings for easy comparison\n",
    "dfA['event']=dfA['event'].str.lower()\n",
    "dfB['event']=dfB['event'].str.lower()\n",
    "\n",
    "# cast as specific data types to keep things tidy\n",
    "eventTypes = pd.CategoricalDtype(categories=['refpoint1',\n",
    "                                             'refpoint2',\n",
    "                                             'refpoint3',\n",
    "                                             'refpoint4',\n",
    "                                             'refpoint5',\n",
    "                                             'weld'], ordered=False)\n",
    "\n",
    "dataTypes = {\n",
    "             'event':eventTypes,\n",
    "             'wc':np.float_\n",
    "             }\n",
    "\n",
    "dfA.astype(dataTypes)\n",
    "dfB.astype(dataTypes)\n",
    "\n",
    "# visual confirmation\n",
    "display(dfA)\n",
    "display(dfB)"
   ]
  },
  {
   "cell_type": "code",
   "execution_count": 12,
   "id": "be87a1cc",
   "metadata": {
    "ExecuteTime": {
     "end_time": "2022-10-15T19:51:36.746361Z",
     "start_time": "2022-10-15T19:51:36.739496Z"
    }
   },
   "outputs": [
    {
     "name": "stdout",
     "output_type": "stream",
     "text": [
      "        wc      event\n",
      "10    5.05       weld\n",
      "11    6.98  refpoint2\n",
      "12    8.89       weld\n",
      "13   13.86       weld\n",
      "14   15.75  refpoint2\n",
      "15   17.87       weld\n",
      "16   30.39       weld\n",
      "17   48.50       weld\n",
      "18   66.91       weld\n",
      "19   85.35       weld\n",
      "20  103.33       weld\n",
      "\n",
      "        wc      event\n",
      "10    4.80       weld\n",
      "11    6.60  refpoint2\n",
      "12    8.47       weld\n",
      "13   13.36       weld\n",
      "14   15.73  refpoint2\n",
      "15   17.58       weld\n",
      "16   30.09       weld\n",
      "17   48.28       weld\n",
      "18   66.68       weld\n",
      "19   85.15       weld\n",
      "20  103.17       weld\n"
     ]
    }
   ],
   "source": [
    "# How to display rows - for looking at data\n",
    "\n",
    "print(dfA.loc[10:20])\n",
    "print()\n",
    "print(dfB.loc[10:20])"
   ]
  },
  {
   "cell_type": "markdown",
   "id": "bd53c302",
   "metadata": {},
   "source": [
    "# Distortion Method Code\n",
    "\n",
    "Per the paper\n",
    "\n",
    "### Configuration is below the two functions\n",
    "It is above the main routine so that it is convienient to tweak parameters and try them out."
   ]
  },
  {
   "cell_type": "code",
   "execution_count": 13,
   "id": "4d6768bb",
   "metadata": {
    "ExecuteTime": {
     "end_time": "2022-10-15T19:52:26.178229Z",
     "start_time": "2022-10-15T19:52:26.169666Z"
    }
   },
   "outputs": [],
   "source": [
    "def incrik(i,k,A,B,Dm1,W) :\n",
    "    # increment i and k, matching event types only\n",
    "    i = i + 1 ; k = k + 1\n",
    "    \n",
    "    ei = A.loc[i].loc['event']\n",
    "    ek = B.loc[k].loc['event']\n",
    "    \n",
    "    # easy match, exit\n",
    "    if (ei == ek) :\n",
    "        return (i,k)\n",
    "    \n",
    "    # no match, look for one nearby\n",
    "    xi = A.loc[i].loc['wc']\n",
    "    xk = B.loc[k].loc['wc']\n",
    "    \n",
    "    ip = i ; kp = k\n",
    "    \n",
    "    nearb = True \n",
    "    while nearb :   # hold A, scan B\n",
    "        kp = kp + 1\n",
    "        xkp = B.loc[kp].loc['wc']\n",
    "        ekp = B.loc[kp].loc['event']\n",
    "        \n",
    "        nearb = (ei != ekp) and (xkp - xk) < W and (kp < len(B)-1)\n",
    "        \n",
    "    neara = True\n",
    "    while neara :   # hold B, scan A\n",
    "        ip = ip + 1\n",
    "        xip = A.loc[ip].loc['wc']\n",
    "        eip = A.loc[ip].loc['event']\n",
    "    \n",
    "        neara = (eip != ek) and (xip - xi) < W and (ip < len(A)-1)\n",
    "    \n",
    "        \n",
    "    if (ei != ekp) and (eip != ek) :  \n",
    "        # no match found, recurse until match\n",
    "        return incrik(i,k,A,B,Dm1,W)\n",
    "    \n",
    "    # one or more candidate pairs\n",
    "    if (ei == ekp) and (eip == ek) :\n",
    "        # dual matches\n",
    "        DiA = xi - xkp ; DDiA = DiA - Dm1\n",
    "        DkB = xip - xk ; DDkB = DkB - Dm1\n",
    "        \n",
    "        if abs(DDiA) < abs(DDkB) :\n",
    "            return (i, kp)\n",
    "        else :\n",
    "            return (ip, k)\n",
    "        \n",
    "    if (ei == ekp) :\n",
    "        # single match\n",
    "        return (i, kp)\n",
    "    else :\n",
    "        return (ip, k)\n",
    "    \n",
    "    # error - jump to end\n",
    "    return(AEndRow,BEndRow)"
   ]
  },
  {
   "cell_type": "code",
   "execution_count": 14,
   "id": "ba381a82",
   "metadata": {
    "ExecuteTime": {
     "end_time": "2022-10-15T19:52:27.300419Z",
     "start_time": "2022-10-15T19:52:27.294649Z"
    }
   },
   "outputs": [],
   "source": [
    "def scanw(i,k,A,B, Dm1,DD,et,psi) :\n",
    "    # returns index of better match within w\n",
    "    w = abs(DD) * psi\n",
    "    bestk = k \n",
    "    \n",
    "    xi = A.loc[i].loc['wc']\n",
    "    xk = B.loc[k].loc['wc'] \n",
    "    ei = A.loc[i].loc['event']\n",
    "    ek = B.loc[k].loc['event']\n",
    "    \n",
    "    kp = k + 1\n",
    "    \n",
    "    nearby = True\n",
    "    while nearby :\n",
    "        \n",
    "        xkp = B.loc[kp].loc['wc'] \n",
    "        ekp = B.loc[kp].loc['wc'] \n",
    "        \n",
    "        if (ei == ekp) :\n",
    "            Dp = xi - xkp\n",
    "            DDp = Dp - Dm1\n",
    "            \n",
    "            if (abs(DDp) < abs(DD)) and (abs(DDp) < et[ei]) :\n",
    "                # better match found\n",
    "                bestk = kp\n",
    "                \n",
    "        kp = kp + 1\n",
    "        nearby = (xkp - xk) < w and (kp < len(B)-1)\n",
    "    \n",
    "    return bestk"
   ]
  },
  {
   "cell_type": "code",
   "execution_count": 15,
   "id": "6a89141c",
   "metadata": {
    "ExecuteTime": {
     "end_time": "2022-10-15T19:52:29.120147Z",
     "start_time": "2022-10-15T19:52:29.117587Z"
    }
   },
   "outputs": [],
   "source": [
    "# Good settings per example\n",
    "###\n",
    "\n",
    "\n",
    "### RC3\n",
    "# bigW = 33\n",
    "# psi = 1.3\n",
    "# et = 7.0"
   ]
  },
  {
   "cell_type": "markdown",
   "id": "5c37cfd9",
   "metadata": {},
   "source": [
    "## Configuration\n",
    "\n",
    "All configurable parameters are here"
   ]
  },
  {
   "cell_type": "code",
   "execution_count": 16,
   "id": "7c29b03b",
   "metadata": {
    "ExecuteTime": {
     "end_time": "2022-10-15T19:52:31.275052Z",
     "start_time": "2022-10-15T19:52:31.270976Z"
    }
   },
   "outputs": [],
   "source": [
    "# Initilizations- globally available\n",
    "\n",
    "# target error threshold (\\mathring{\\varepsilon})\n",
    "etMonoVal = 7.0                   # real\n",
    "et = {'refpoint1':etMonoVal,\n",
    "      'refpoint2':etMonoVal,\n",
    "      'refpoint3':etMonoVal,\n",
    "      'refpoint4':etMonoVal,\n",
    "      'refpoint5':etMonoVal,\n",
    "      'weld':etMonoVal}\n",
    "\n",
    "# Capital W window (about the size of longest joints)\n",
    "bigW = 33                       # real\n",
    "\n",
    "# scan window factor of safety (w = DD * psi)\n",
    "psi = 1.3                      # real\n",
    "\n",
    "# boundary conditions\n",
    "i = AStartRow\n",
    "k = BStartRow\n",
    "\n",
    "n = AEndRow\n",
    "m = BEndRow\n"
   ]
  },
  {
   "cell_type": "markdown",
   "id": "b59d9784",
   "metadata": {},
   "source": [
    "## Main routine\n",
    "\n",
    "This may take a while.\n",
    "\n",
    "It will say `Finished` when it is done."
   ]
  },
  {
   "cell_type": "code",
   "execution_count": 17,
   "id": "a805afc4",
   "metadata": {
    "ExecuteTime": {
     "end_time": "2022-10-15T19:52:38.690246Z",
     "start_time": "2022-10-15T19:52:33.635529Z"
    },
    "scrolled": true
   },
   "outputs": [
    {
     "name": "stdout",
     "output_type": "stream",
     "text": [
      "Finished at : 13:52:38\n"
     ]
    }
   ],
   "source": [
    "# main()\n",
    "\n",
    "xi = dfA.loc[i].loc['wc']\n",
    "xk = dfB.loc[k].loc['wc']\n",
    "\n",
    "D = xi - xk\n",
    "DD = 0\n",
    "\n",
    "match = True\n",
    "\n",
    "S = deque()      # the output sequence\n",
    "\n",
    "## Main Loop\n",
    "while (i < n) and (k < m) :\n",
    "\n",
    "    if match :\n",
    "        S.append([i,k,D,DD])\n",
    "        Dm1 = D  # last known good distortion value\n",
    "    else :\n",
    "        pass     # outlier, retain last Dm1\n",
    "\n",
    "    match = False\n",
    "\n",
    "    # get next pair of i and k\n",
    "    i, k = incrik(i,k,dfA,dfB,Dm1,bigW) \n",
    "    ei = dfA.loc[i].loc['event']\n",
    "    ek = dfB.loc[k].loc['event']\n",
    "\n",
    "    xa = dfA.loc[i].loc['wc']\n",
    "    xb = dfB.loc[k].loc['wc']\n",
    "    D = xa - xb\n",
    "    DD = D - Dm1\n",
    "\n",
    "    if abs(DD) < et[ei] :\n",
    "        # good match, next iteration\n",
    "        match = True\n",
    "        continue\n",
    "\n",
    "    # Pair is an outlier, scan for better matches\n",
    "    kp = scanw(i,k,dfA,dfB, Dm1,DD,et,psi)\n",
    "    ip = scanw(k,i,dfB,dfA, Dm1,DD,et,psi)\n",
    "\n",
    "    if (kp == k) and (ip == i) :\n",
    "        # nothing better, make a gap, get next pair\n",
    "        match == False\n",
    "        continue\n",
    "\n",
    "    # better match found\n",
    "    match = True\n",
    "\n",
    "    if ((kp - k) < (ip - i)) and (kp != k) :\n",
    "        # kp is the better match\n",
    "        i = i ; k = kp\n",
    "    else :\n",
    "        # ip is yhe better match\n",
    "        i = ip ; k = k\n",
    "\n",
    "    # end while\n",
    "\n",
    "currentDateAndTime = datetime.now()\n",
    "currentTime = currentDateAndTime.strftime(\"%H:%M:%S\")\n",
    "print('Finished at :', currentTime)"
   ]
  },
  {
   "cell_type": "markdown",
   "id": "79922e83",
   "metadata": {},
   "source": [
    "## Convert Pairs to a Dataset for graphing\n",
    "\n",
    "Will display a sample of the data table when done.  Wait for it."
   ]
  },
  {
   "cell_type": "code",
   "execution_count": 19,
   "id": "1925d5c9",
   "metadata": {
    "ExecuteTime": {
     "end_time": "2022-10-15T19:55:10.951972Z",
     "start_time": "2022-10-15T19:54:44.252885Z"
    }
   },
   "outputs": [
    {
     "name": "stdout",
     "output_type": "stream",
     "text": [
      "Finished at : 13:55:10\n"
     ]
    },
    {
     "data": {
      "text/html": [
       "<div>\n",
       "<style scoped>\n",
       "    .dataframe tbody tr th:only-of-type {\n",
       "        vertical-align: middle;\n",
       "    }\n",
       "\n",
       "    .dataframe tbody tr th {\n",
       "        vertical-align: top;\n",
       "    }\n",
       "\n",
       "    .dataframe thead th {\n",
       "        text-align: right;\n",
       "    }\n",
       "</style>\n",
       "<table border=\"1\" class=\"dataframe\">\n",
       "  <thead>\n",
       "    <tr style=\"text-align: right;\">\n",
       "      <th></th>\n",
       "      <th>i</th>\n",
       "      <th>wcA</th>\n",
       "      <th>eventA</th>\n",
       "      <th>dist</th>\n",
       "      <th>diff</th>\n",
       "      <th>eventB</th>\n",
       "      <th>wcB</th>\n",
       "      <th>k</th>\n",
       "    </tr>\n",
       "  </thead>\n",
       "  <tbody>\n",
       "    <tr>\n",
       "      <th>0</th>\n",
       "      <td>3</td>\n",
       "      <td>0.00</td>\n",
       "      <td>refpoint5</td>\n",
       "      <td>0.00</td>\n",
       "      <td>0</td>\n",
       "      <td>refpoint5</td>\n",
       "      <td>0.00</td>\n",
       "      <td>3</td>\n",
       "    </tr>\n",
       "    <tr>\n",
       "      <th>1</th>\n",
       "      <td>4</td>\n",
       "      <td>0.51</td>\n",
       "      <td>refpoint3</td>\n",
       "      <td>-0.44</td>\n",
       "      <td>-0.44</td>\n",
       "      <td>refpoint3</td>\n",
       "      <td>0.95</td>\n",
       "      <td>4</td>\n",
       "    </tr>\n",
       "    <tr>\n",
       "      <th>2</th>\n",
       "      <td>5</td>\n",
       "      <td>1.18</td>\n",
       "      <td>weld</td>\n",
       "      <td>-0.27</td>\n",
       "      <td>0.17</td>\n",
       "      <td>weld</td>\n",
       "      <td>1.45</td>\n",
       "      <td>5</td>\n",
       "    </tr>\n",
       "    <tr>\n",
       "      <th>3</th>\n",
       "      <td>6</td>\n",
       "      <td>2.02</td>\n",
       "      <td>refpoint4</td>\n",
       "      <td>-0.02</td>\n",
       "      <td>0.25</td>\n",
       "      <td>refpoint4</td>\n",
       "      <td>2.04</td>\n",
       "      <td>6</td>\n",
       "    </tr>\n",
       "    <tr>\n",
       "      <th>4</th>\n",
       "      <td>7</td>\n",
       "      <td>2.85</td>\n",
       "      <td>weld</td>\n",
       "      <td>0.06</td>\n",
       "      <td>0.08</td>\n",
       "      <td>weld</td>\n",
       "      <td>2.79</td>\n",
       "      <td>7</td>\n",
       "    </tr>\n",
       "    <tr>\n",
       "      <th>...</th>\n",
       "      <td>...</td>\n",
       "      <td>...</td>\n",
       "      <td>...</td>\n",
       "      <td>...</td>\n",
       "      <td>...</td>\n",
       "      <td>...</td>\n",
       "      <td>...</td>\n",
       "      <td>...</td>\n",
       "    </tr>\n",
       "    <tr>\n",
       "      <th>7607</th>\n",
       "      <td>7897</td>\n",
       "      <td>296371.65</td>\n",
       "      <td>weld</td>\n",
       "      <td>288.17</td>\n",
       "      <td>-0.02</td>\n",
       "      <td>weld</td>\n",
       "      <td>296083.48</td>\n",
       "      <td>7752</td>\n",
       "    </tr>\n",
       "    <tr>\n",
       "      <th>7608</th>\n",
       "      <td>7898</td>\n",
       "      <td>296372.58</td>\n",
       "      <td>refpoint4</td>\n",
       "      <td>288.19</td>\n",
       "      <td>0.02</td>\n",
       "      <td>refpoint4</td>\n",
       "      <td>296084.39</td>\n",
       "      <td>7753</td>\n",
       "    </tr>\n",
       "    <tr>\n",
       "      <th>7609</th>\n",
       "      <td>7899</td>\n",
       "      <td>296373.68</td>\n",
       "      <td>refpoint4</td>\n",
       "      <td>288.16</td>\n",
       "      <td>-0.03</td>\n",
       "      <td>refpoint4</td>\n",
       "      <td>296085.52</td>\n",
       "      <td>7754</td>\n",
       "    </tr>\n",
       "    <tr>\n",
       "      <th>7610</th>\n",
       "      <td>7900</td>\n",
       "      <td>296374.23</td>\n",
       "      <td>weld</td>\n",
       "      <td>288.20</td>\n",
       "      <td>0.04</td>\n",
       "      <td>weld</td>\n",
       "      <td>296086.03</td>\n",
       "      <td>7755</td>\n",
       "    </tr>\n",
       "    <tr>\n",
       "      <th>7611</th>\n",
       "      <td>7901</td>\n",
       "      <td>296374.61</td>\n",
       "      <td>refpoint3</td>\n",
       "      <td>288.17</td>\n",
       "      <td>-0.03</td>\n",
       "      <td>refpoint3</td>\n",
       "      <td>296086.44</td>\n",
       "      <td>7756</td>\n",
       "    </tr>\n",
       "  </tbody>\n",
       "</table>\n",
       "<p>7612 rows × 8 columns</p>\n",
       "</div>"
      ],
      "text/plain": [
       "         i        wcA     eventA    dist  diff     eventB        wcB     k\n",
       "0        3       0.00  refpoint5    0.00     0  refpoint5       0.00     3\n",
       "1        4       0.51  refpoint3   -0.44 -0.44  refpoint3       0.95     4\n",
       "2        5       1.18       weld   -0.27  0.17       weld       1.45     5\n",
       "3        6       2.02  refpoint4   -0.02  0.25  refpoint4       2.04     6\n",
       "4        7       2.85       weld    0.06  0.08       weld       2.79     7\n",
       "...    ...        ...        ...     ...   ...        ...        ...   ...\n",
       "7607  7897  296371.65       weld  288.17 -0.02       weld  296083.48  7752\n",
       "7608  7898  296372.58  refpoint4  288.19  0.02  refpoint4  296084.39  7753\n",
       "7609  7899  296373.68  refpoint4  288.16 -0.03  refpoint4  296085.52  7754\n",
       "7610  7900  296374.23       weld  288.20  0.04       weld  296086.03  7755\n",
       "7611  7901  296374.61  refpoint3  288.17 -0.03  refpoint3  296086.44  7756\n",
       "\n",
       "[7612 rows x 8 columns]"
      ]
     },
     "metadata": {},
     "output_type": "display_data"
    }
   ],
   "source": [
    "# colNames = ['idx','event','wc']\n",
    "\n",
    "mapcols = ['i', 'wcA', 'eventA', \n",
    "           'dist','diff',\n",
    "           'eventB', 'wcB', 'k']\n",
    "\n",
    "dsS = pd.DataFrame(columns=mapcols)\n",
    "\n",
    "# pairs.reverse()\n",
    "\n",
    "for elem in S :\n",
    "    i, k, dist, diff = elem\n",
    "    \n",
    "    wcA = dfA.loc[i].loc['wc']\n",
    "    eventA = dfA.loc[i].loc['event']\n",
    "    \n",
    "    eventB = dfB.loc[k].loc['event']\n",
    "    wcB = dfB.loc[k].loc['wc']\n",
    "    \n",
    "    dist = wcA - wcB\n",
    "    diff = diff\n",
    "    \n",
    "    dsS = dsS.append({'i':i, 'wcA':wcA, 'eventA':eventA, \n",
    "           'dist':dist,'diff':diff,\n",
    "           'eventB':eventB,'wcB':wcB,'k':k}, ignore_index=True)\n",
    "\n",
    "    \n",
    "currentDateAndTime = datetime.now()\n",
    "currentTime = currentDateAndTime.strftime(\"%H:%M:%S\")\n",
    "print('Finished at :', currentTime)\n",
    "    \n",
    "display(dsS) "
   ]
  },
  {
   "cell_type": "markdown",
   "id": "30de677e",
   "metadata": {},
   "source": [
    "## Mean and Std Dev"
   ]
  },
  {
   "cell_type": "code",
   "execution_count": 20,
   "id": "0273c92d",
   "metadata": {
    "ExecuteTime": {
     "end_time": "2022-10-15T19:56:35.742021Z",
     "start_time": "2022-10-15T19:56:35.735109Z"
    },
    "scrolled": true
   },
   "outputs": [
    {
     "name": "stdout",
     "output_type": "stream",
     "text": [
      "   E(diff) = 0.04\n",
      "   sigma(diff) = 0.63\n"
     ]
    }
   ],
   "source": [
    "print('   E(diff) = {:0.2f}'.format(dsS['diff'].mean()))\n",
    "print('   sigma(diff) = {:0.2f}'.format(dsS['diff'].std()))"
   ]
  },
  {
   "cell_type": "code",
   "execution_count": 751,
   "id": "36308f82",
   "metadata": {
    "ExecuteTime": {
     "end_time": "2022-10-13T05:38:32.053830Z",
     "start_time": "2022-10-13T05:38:32.052012Z"
    }
   },
   "outputs": [],
   "source": [
    "# Save the data set, uncomment\n",
    "\n",
    "# dsS.to_csv(path_or_buf='./Data_Out ', + dset + ,'.csv')"
   ]
  },
  {
   "cell_type": "markdown",
   "id": "a09a1f74",
   "metadata": {},
   "source": [
    "## Plot the distortion"
   ]
  },
  {
   "cell_type": "code",
   "execution_count": 752,
   "id": "87f78993",
   "metadata": {
    "ExecuteTime": {
     "end_time": "2022-10-13T05:38:32.251291Z",
     "start_time": "2022-10-13T05:38:32.055262Z"
    },
    "scrolled": false
   },
   "outputs": [
    {
     "data": {
      "text/plain": [
       "<function matplotlib.pyplot.show(close=None, block=None)>"
      ]
     },
     "execution_count": 752,
     "metadata": {},
     "output_type": "execute_result"
    },
    {
     "data": {
      "text/plain": [
       "<Figure size 1080x576 with 0 Axes>"
      ]
     },
     "metadata": {},
     "output_type": "display_data"
    },
    {
     "data": {
      "image/png": "[encoded data removed]",
      "text/plain": [
       "<Figure size 1080x576 with 1 Axes>"
      ]
     },
     "metadata": {},
     "output_type": "display_data"
    }
   ],
   "source": [
    "# Plot it\n",
    "plt.figure(figsize=[15,8]);\n",
    "dsS.plot(kind='scatter', x='wcA', y='dist', figsize=[15,8])\n",
    "# , ylim=[-160,0], xlim=[0,107500]\n",
    "plt.show\n",
    "\n",
    "# plt.savefig('./Distortion ', + dset + ,'.pdf')\n",
    "# plt.savefig('./Distortion ', + dset + ,'.png')"
   ]
  },
  {
   "cell_type": "markdown",
   "id": "d5d5daf4",
   "metadata": {
    "ExecuteTime": {
     "end_time": "2022-10-15T19:58:13.825853Z",
     "start_time": "2022-10-15T19:58:13.823139Z"
    }
   },
   "source": [
    "## Plot the Differencing"
   ]
  },
  {
   "cell_type": "code",
   "execution_count": 753,
   "id": "2e0b1791",
   "metadata": {
    "ExecuteTime": {
     "end_time": "2022-10-13T05:38:32.542495Z",
     "start_time": "2022-10-13T05:38:32.252859Z"
    },
    "scrolled": true
   },
   "outputs": [
    {
     "data": {
      "text/plain": [
       "<function matplotlib.pyplot.show(close=None, block=None)>"
      ]
     },
     "execution_count": 753,
     "metadata": {},
     "output_type": "execute_result"
    },
    {
     "data": {
      "image/png": "[encoded data removed]",
      "text/plain": [
       "<Figure size 1080x288 with 1 Axes>"
      ]
     },
     "metadata": {},
     "output_type": "display_data"
    }
   ],
   "source": [
    "# Plot it\n",
    "# plt.figure(figsize=[15,8]);\n",
    "dsS.plot(kind='scatter', x='wcA', y='diff', figsize=[15,4], ylim=[-10,10])\n",
    "# , ylim=[-160,0], xlim=[0,107500]\n",
    "plt.show\n",
    "\n",
    "# plt.savefig('./Differencing ', + dset + ,'.pdf')\n",
    "# plt.savefig('./Differencing ', + dset + ,'.png')"
   ]
  },
  {
   "cell_type": "code",
   "execution_count": null,
   "id": "b2805794",
   "metadata": {},
   "outputs": [],
   "source": []
  },
  {
   "cell_type": "code",
   "execution_count": 748,
   "id": "ab103176",
   "metadata": {
    "ExecuteTime": {
     "end_time": "2022-10-13T05:38:06.195545Z",
     "start_time": "2022-10-13T05:38:06.191721Z"
    }
   },
   "outputs": [
    {
     "name": "stdout",
     "output_type": "stream",
     "text": [
      "33  : bigW\n",
      "7.0  : et\n",
      "1.3  : psi\n",
      "7902\n",
      "7757\n",
      "7612\n",
      "Match % :  96.33\n"
     ]
    }
   ],
   "source": [
    "# Grid Search\n",
    "\n",
    "print(bigW, ' : bigW')\n",
    "print(etMonoVal, ' : et')\n",
    "print(psi, ' : psi')\n",
    "print(i)\n",
    "print(k)\n",
    "print(len(S))  # <-- number of pairs found\n",
    "print('Match % : ', round(len(S)/i * 100,2))\n"
   ]
  },
  {
   "cell_type": "code",
   "execution_count": null,
   "id": "1614dad9",
   "metadata": {},
   "outputs": [],
   "source": []
  }
 ],
 "metadata": {
  "kernelspec": {
   "display_name": "Python 3 (ipykernel)",
   "language": "python",
   "name": "python3"
  },
  "language_info": {
   "codemirror_mode": {
    "name": "ipython",
    "version": 3
   },
   "file_extension": ".py",
   "mimetype": "text/x-python",
   "name": "python",
   "nbconvert_exporter": "python",
   "pygments_lexer": "ipython3",
   "version": "3.9.7"
  }
 },
 "nbformat": 4,
 "nbformat_minor": 5
}
